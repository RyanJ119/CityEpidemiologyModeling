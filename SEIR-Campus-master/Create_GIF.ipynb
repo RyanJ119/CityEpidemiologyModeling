{
 "cells": [
  {
   "cell_type": "code",
   "execution_count": 8,
   "id": "580b9562",
   "metadata": {},
   "outputs": [],
   "source": [
    "import imageio\n",
    "import os"
   ]
  },
  {
   "cell_type": "code",
   "execution_count": 24,
   "id": "cacb0b42",
   "metadata": {},
   "outputs": [
    {
     "name": "stdout",
     "output_type": "stream",
     "text": [
      "C:/Users/ys954/Documents/Github/CityEpidemiologyModeling/SEIR-Campus-master/Propogation/I/4_Grid_Uni_R_Uni_F_25\\Frame_00000.bmp\n",
      "C:/Users/ys954/Documents/Github/CityEpidemiologyModeling/SEIR-Campus-master/Propogation/I/4_Grid_Uni_R_Uni_F_25\\Frame_00001.bmp\n",
      "C:/Users/ys954/Documents/Github/CityEpidemiologyModeling/SEIR-Campus-master/Propogation/I/4_Grid_Uni_R_Uni_F_25\\Frame_00002.bmp\n",
      "C:/Users/ys954/Documents/Github/CityEpidemiologyModeling/SEIR-Campus-master/Propogation/I/4_Grid_Uni_R_Uni_F_25\\Frame_00003.bmp\n",
      "C:/Users/ys954/Documents/Github/CityEpidemiologyModeling/SEIR-Campus-master/Propogation/I/4_Grid_Uni_R_Uni_F_25\\Frame_00004.bmp\n",
      "C:/Users/ys954/Documents/Github/CityEpidemiologyModeling/SEIR-Campus-master/Propogation/I/4_Grid_Uni_R_Uni_F_25\\Frame_00005.bmp\n",
      "C:/Users/ys954/Documents/Github/CityEpidemiologyModeling/SEIR-Campus-master/Propogation/I/4_Grid_Uni_R_Uni_F_25\\Frame_00006.bmp\n",
      "C:/Users/ys954/Documents/Github/CityEpidemiologyModeling/SEIR-Campus-master/Propogation/I/4_Grid_Uni_R_Uni_F_25\\Frame_00007.bmp\n",
      "C:/Users/ys954/Documents/Github/CityEpidemiologyModeling/SEIR-Campus-master/Propogation/I/4_Grid_Uni_R_Uni_F_25\\Frame_00008.bmp\n",
      "C:/Users/ys954/Documents/Github/CityEpidemiologyModeling/SEIR-Campus-master/Propogation/I/4_Grid_Uni_R_Uni_F_25\\Frame_00009.bmp\n",
      "C:/Users/ys954/Documents/Github/CityEpidemiologyModeling/SEIR-Campus-master/Propogation/I/4_Grid_Uni_R_Uni_F_25\\Frame_00010.bmp\n",
      "C:/Users/ys954/Documents/Github/CityEpidemiologyModeling/SEIR-Campus-master/Propogation/I/4_Grid_Uni_R_Uni_F_25\\Frame_00011.bmp\n",
      "C:/Users/ys954/Documents/Github/CityEpidemiologyModeling/SEIR-Campus-master/Propogation/I/4_Grid_Uni_R_Uni_F_25\\Frame_00012.bmp\n",
      "C:/Users/ys954/Documents/Github/CityEpidemiologyModeling/SEIR-Campus-master/Propogation/I/4_Grid_Uni_R_Uni_F_25\\Frame_00013.bmp\n",
      "C:/Users/ys954/Documents/Github/CityEpidemiologyModeling/SEIR-Campus-master/Propogation/I/4_Grid_Uni_R_Uni_F_25\\Frame_00014.bmp\n",
      "C:/Users/ys954/Documents/Github/CityEpidemiologyModeling/SEIR-Campus-master/Propogation/I/4_Grid_Uni_R_Uni_F_25\\Frame_00015.bmp\n",
      "C:/Users/ys954/Documents/Github/CityEpidemiologyModeling/SEIR-Campus-master/Propogation/I/4_Grid_Uni_R_Uni_F_25\\Frame_00016.bmp\n",
      "C:/Users/ys954/Documents/Github/CityEpidemiologyModeling/SEIR-Campus-master/Propogation/I/4_Grid_Uni_R_Uni_F_25\\Frame_00017.bmp\n",
      "C:/Users/ys954/Documents/Github/CityEpidemiologyModeling/SEIR-Campus-master/Propogation/I/4_Grid_Uni_R_Uni_F_25\\Frame_00018.bmp\n",
      "C:/Users/ys954/Documents/Github/CityEpidemiologyModeling/SEIR-Campus-master/Propogation/I/4_Grid_Uni_R_Uni_F_25\\Frame_00019.bmp\n",
      "C:/Users/ys954/Documents/Github/CityEpidemiologyModeling/SEIR-Campus-master/Propogation/I/4_Grid_Uni_R_Uni_F_25\\Frame_00020.bmp\n",
      "C:/Users/ys954/Documents/Github/CityEpidemiologyModeling/SEIR-Campus-master/Propogation/I/4_Grid_Uni_R_Uni_F_25\\Frame_00021.bmp\n",
      "C:/Users/ys954/Documents/Github/CityEpidemiologyModeling/SEIR-Campus-master/Propogation/I/4_Grid_Uni_R_Uni_F_25\\Frame_00022.bmp\n",
      "C:/Users/ys954/Documents/Github/CityEpidemiologyModeling/SEIR-Campus-master/Propogation/I/4_Grid_Uni_R_Uni_F_25\\Frame_00023.bmp\n",
      "C:/Users/ys954/Documents/Github/CityEpidemiologyModeling/SEIR-Campus-master/Propogation/I/4_Grid_Uni_R_Uni_F_25\\Frame_00024.bmp\n",
      "C:/Users/ys954/Documents/Github/CityEpidemiologyModeling/SEIR-Campus-master/Propogation/I/4_Grid_Uni_R_Uni_F_25\\Frame_00025.bmp\n",
      "C:/Users/ys954/Documents/Github/CityEpidemiologyModeling/SEIR-Campus-master/Propogation/I/4_Grid_Uni_R_Uni_F_25\\Frame_00026.bmp\n",
      "C:/Users/ys954/Documents/Github/CityEpidemiologyModeling/SEIR-Campus-master/Propogation/I/4_Grid_Uni_R_Uni_F_25\\Frame_00027.bmp\n",
      "C:/Users/ys954/Documents/Github/CityEpidemiologyModeling/SEIR-Campus-master/Propogation/I/4_Grid_Uni_R_Uni_F_25\\Frame_00028.bmp\n",
      "C:/Users/ys954/Documents/Github/CityEpidemiologyModeling/SEIR-Campus-master/Propogation/I/4_Grid_Uni_R_Uni_F_25\\Frame_00029.bmp\n",
      "C:/Users/ys954/Documents/Github/CityEpidemiologyModeling/SEIR-Campus-master/Propogation/I/4_Grid_Uni_R_Uni_F_25\\Frame_00030.bmp\n",
      "C:/Users/ys954/Documents/Github/CityEpidemiologyModeling/SEIR-Campus-master/Propogation/I/4_Grid_Uni_R_Uni_F_25\\Frame_00031.bmp\n",
      "C:/Users/ys954/Documents/Github/CityEpidemiologyModeling/SEIR-Campus-master/Propogation/I/4_Grid_Uni_R_Uni_F_25\\Frame_00032.bmp\n",
      "C:/Users/ys954/Documents/Github/CityEpidemiologyModeling/SEIR-Campus-master/Propogation/I/4_Grid_Uni_R_Uni_F_25\\Frame_00033.bmp\n",
      "C:/Users/ys954/Documents/Github/CityEpidemiologyModeling/SEIR-Campus-master/Propogation/I/4_Grid_Uni_R_Uni_F_25\\Frame_00034.bmp\n",
      "C:/Users/ys954/Documents/Github/CityEpidemiologyModeling/SEIR-Campus-master/Propogation/I/4_Grid_Uni_R_Uni_F_25\\Frame_00035.bmp\n",
      "C:/Users/ys954/Documents/Github/CityEpidemiologyModeling/SEIR-Campus-master/Propogation/I/4_Grid_Uni_R_Uni_F_25\\Frame_00036.bmp\n",
      "C:/Users/ys954/Documents/Github/CityEpidemiologyModeling/SEIR-Campus-master/Propogation/I/4_Grid_Uni_R_Uni_F_25\\Frame_00037.bmp\n",
      "C:/Users/ys954/Documents/Github/CityEpidemiologyModeling/SEIR-Campus-master/Propogation/I/4_Grid_Uni_R_Uni_F_25\\Frame_00038.bmp\n",
      "C:/Users/ys954/Documents/Github/CityEpidemiologyModeling/SEIR-Campus-master/Propogation/I/4_Grid_Uni_R_Uni_F_25\\Frame_00039.bmp\n",
      "C:/Users/ys954/Documents/Github/CityEpidemiologyModeling/SEIR-Campus-master/Propogation/I/4_Grid_Uni_R_Uni_F_25\\Frame_00040.bmp\n",
      "C:/Users/ys954/Documents/Github/CityEpidemiologyModeling/SEIR-Campus-master/Propogation/I/4_Grid_Uni_R_Uni_F_25\\Frame_00041.bmp\n",
      "C:/Users/ys954/Documents/Github/CityEpidemiologyModeling/SEIR-Campus-master/Propogation/I/4_Grid_Uni_R_Uni_F_25\\Frame_00042.bmp\n",
      "C:/Users/ys954/Documents/Github/CityEpidemiologyModeling/SEIR-Campus-master/Propogation/I/4_Grid_Uni_R_Uni_F_25\\Frame_00043.bmp\n",
      "C:/Users/ys954/Documents/Github/CityEpidemiologyModeling/SEIR-Campus-master/Propogation/I/4_Grid_Uni_R_Uni_F_25\\Frame_00044.bmp\n",
      "C:/Users/ys954/Documents/Github/CityEpidemiologyModeling/SEIR-Campus-master/Propogation/I/4_Grid_Uni_R_Uni_F_25\\Frame_00045.bmp\n",
      "C:/Users/ys954/Documents/Github/CityEpidemiologyModeling/SEIR-Campus-master/Propogation/I/4_Grid_Uni_R_Uni_F_25\\Frame_00046.bmp\n",
      "C:/Users/ys954/Documents/Github/CityEpidemiologyModeling/SEIR-Campus-master/Propogation/I/4_Grid_Uni_R_Uni_F_25\\Frame_00047.bmp\n",
      "C:/Users/ys954/Documents/Github/CityEpidemiologyModeling/SEIR-Campus-master/Propogation/I/4_Grid_Uni_R_Uni_F_25\\Frame_00048.bmp\n",
      "C:/Users/ys954/Documents/Github/CityEpidemiologyModeling/SEIR-Campus-master/Propogation/I/4_Grid_Uni_R_Uni_F_25\\Frame_00049.bmp\n",
      "C:/Users/ys954/Documents/Github/CityEpidemiologyModeling/SEIR-Campus-master/Propogation/I/4_Grid_Uni_R_Uni_F_25\\Frame_00050.bmp\n",
      "C:/Users/ys954/Documents/Github/CityEpidemiologyModeling/SEIR-Campus-master/Propogation/I/4_Grid_Uni_R_Uni_F_25\\Frame_00051.bmp\n",
      "C:/Users/ys954/Documents/Github/CityEpidemiologyModeling/SEIR-Campus-master/Propogation/I/4_Grid_Uni_R_Uni_F_25\\Frame_00052.bmp\n",
      "C:/Users/ys954/Documents/Github/CityEpidemiologyModeling/SEIR-Campus-master/Propogation/I/4_Grid_Uni_R_Uni_F_25\\Frame_00053.bmp\n",
      "C:/Users/ys954/Documents/Github/CityEpidemiologyModeling/SEIR-Campus-master/Propogation/I/4_Grid_Uni_R_Uni_F_25\\Frame_00054.bmp\n",
      "C:/Users/ys954/Documents/Github/CityEpidemiologyModeling/SEIR-Campus-master/Propogation/I/4_Grid_Uni_R_Uni_F_25\\Frame_00055.bmp\n",
      "C:/Users/ys954/Documents/Github/CityEpidemiologyModeling/SEIR-Campus-master/Propogation/I/4_Grid_Uni_R_Uni_F_25\\Frame_00056.bmp\n",
      "C:/Users/ys954/Documents/Github/CityEpidemiologyModeling/SEIR-Campus-master/Propogation/I/4_Grid_Uni_R_Uni_F_25\\Frame_00057.bmp\n",
      "C:/Users/ys954/Documents/Github/CityEpidemiologyModeling/SEIR-Campus-master/Propogation/I/4_Grid_Uni_R_Uni_F_25\\Frame_00058.bmp\n",
      "C:/Users/ys954/Documents/Github/CityEpidemiologyModeling/SEIR-Campus-master/Propogation/I/4_Grid_Uni_R_Uni_F_25\\Frame_00059.bmp\n",
      "C:/Users/ys954/Documents/Github/CityEpidemiologyModeling/SEIR-Campus-master/Propogation/I/4_Grid_Uni_R_Uni_F_25\\Frame_00060.bmp\n"
     ]
    }
   ],
   "source": [
    "folder_path = \"C:/Users/ys954/Documents/Github/CityEpidemiologyModeling/\"+\\\n",
    "                \"SEIR-Campus-master/Propogation/I/4_Grid_Uni_R_Uni_F_25\"  # Replace with the actual folder path\n",
    "\n",
    "# Get the list of files in the folder\n",
    "file_list = os.listdir(folder_path)\n",
    "\n",
    "# store all bmps\n",
    "bmp_files = []\n",
    "\n",
    "# Iterate over the files in the folder\n",
    "for file_name in file_list:\n",
    "    file_path = os.path.join(folder_path, file_name)\n",
    "\n",
    "    # Check if the path corresponds to a file (not a subfolder)\n",
    "    if os.path.isfile(file_path):\n",
    "        # Process the file\n",
    "        bmp_files.append(file_path)\n",
    "        print(file_path)"
   ]
  },
  {
   "cell_type": "code",
   "execution_count": 25,
   "id": "8c7b8fe1",
   "metadata": {},
   "outputs": [],
   "source": [
    "#gif_name = \"1_Center_Gradient_Grid_Uni_R_Rad_F_25\"+ \".gif\"\n",
    "#gif_name = \"2_Right_Linear_Grid_Uni_R_Rad_F_25\"+\".gif\"\n",
    "#gif_name = \"3_TwoSides_Linear_Grid_Uni_R_Rad_F_25\"+\".gif\"\n",
    "gif_name = \"4_Grid_Uni_R_Uni_F_25\"+\".gif\"\n",
    "\n",
    "# Create an empty list to store the image frames\n",
    "frames = []\n",
    "\n",
    "# Load each BMP file and append it to the frames list\n",
    "for bmp_file in bmp_files:\n",
    "    frames.append(imageio.imread(bmp_file))\n",
    "\n",
    "# Save the frames as an animated GIF\n",
    "output_file = \"C:/Users/ys954/Documents/Github/CityEpidemiologyModeling/SEIR-Campus-master/Propogation/I/\"+gif_name\n",
    "imageio.mimsave(output_file, frames, duration=0.2)"
   ]
  },
  {
   "cell_type": "code",
   "execution_count": null,
   "id": "8ba510f6",
   "metadata": {},
   "outputs": [],
   "source": []
  }
 ],
 "metadata": {
  "kernelspec": {
   "display_name": "Python 3 (ipykernel)",
   "language": "python",
   "name": "python3"
  },
  "language_info": {
   "codemirror_mode": {
    "name": "ipython",
    "version": 3
   },
   "file_extension": ".py",
   "mimetype": "text/x-python",
   "name": "python",
   "nbconvert_exporter": "python",
   "pygments_lexer": "ipython3",
   "version": "3.9.12"
  }
 },
 "nbformat": 4,
 "nbformat_minor": 5
}
