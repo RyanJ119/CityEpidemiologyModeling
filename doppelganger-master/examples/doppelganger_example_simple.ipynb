{
 "cells": [
  {
   "cell_type": "markdown",
   "metadata": {},
   "source": [
    "# Doppelganger! (Simple)\n",
    "Welcome to the simplified Doppelganger example. If you have not already done so, please see the [README document](https://github.com/sidewalklabs/doppelganger/blob/master/README.md) for installation instructions and information on what Doppelganger is doing under the hood. For a more thorough walkthrough, take a look at [doppelganger_example_full](./doppelganger_example_full.ipynb)."
   ]
  },
  {
   "cell_type": "markdown",
   "metadata": {},
   "source": [
    "# Getting Started\n",
    "Doppelganger lets you configure which census fields you use, the relationships among these fields (network structure), and the data preprocessing. We'll begin by loading the necessary packages, and then load a simple configuration file."
   ]
  },
  {
   "cell_type": "code",
   "execution_count": 1,
   "metadata": {},
   "outputs": [],
   "source": [
    "import pandas as pd\n",
    "\n",
    "from doppelganger import (\n",
    "    allocation,\n",
    "    inputs,\n",
    "    Configuration,\n",
    "    HouseholdAllocator,\n",
    "    PumsData,\n",
    "    SegmentedData,\n",
    "    BayesianNetworkModel,\n",
    "    Population,\n",
    "    Preprocessor,\n",
    "    Marginals\n",
    ")\n"
   ]
  },
  {
   "cell_type": "code",
   "execution_count": 2,
   "metadata": {},
   "outputs": [],
   "source": [
    "config_file = \"C:/Users/ys954/Documents/Github/CityEpidemiologyModeling/doppelganger-master/examples/sample_data/config.json\"\n",
    "configuration = Configuration.from_file(config_file)"
   ]
  },
  {
   "cell_type": "markdown",
   "metadata": {},
   "source": [
    "# Loading and Cleaning Data\n",
    "The following loads our data and cleans it according to the configuration. Reusing the same preprocessor ensures all data is cleaned consistently. We'll use California's PUMA `00106` for our demonstration."
   ]
  },
  {
   "cell_type": "code",
   "execution_count": 3,
   "metadata": {},
   "outputs": [],
   "source": [
    "PUMA = '00106'\n",
    "\n",
    "preprocessor = Preprocessor.from_config(configuration.preprocessing_config)\n",
    "\n",
    "# Take pums fields from the config and from the default fields needed for\n",
    "# the household allocation process.\n",
    "household_fields = tuple(set(\n",
    "    field.name for field in allocation.DEFAULT_HOUSEHOLD_FIELDS).union(\n",
    "        set(configuration.household_fields)\n",
    "))\n",
    "\n",
    "households_data = PumsData.from_csv('sample_data/households_00106_dirty.csv').clean(\n",
    "    household_fields, preprocessor, puma=PUMA\n",
    ")\n",
    "\n",
    "persons_fields = tuple(set(\n",
    "    field.name for field in allocation.DEFAULT_PERSON_FIELDS).union(\n",
    "        set(configuration.person_fields)\n",
    "))\n",
    "persons_data = PumsData.from_csv('sample_data/persons_00106_dirty.csv').clean(\n",
    "    persons_fields, preprocessor, puma=PUMA\n",
    ")"
   ]
  },
  {
   "cell_type": "markdown",
   "metadata": {},
   "source": [
    "# Household Allocation\n",
    "Now we will allocate persons and households to tracts to align with census controls.  First, load our controls based on ACS marginals."
   ]
  },
  {
   "cell_type": "code",
   "execution_count": 4,
   "metadata": {},
   "outputs": [],
   "source": [
    "controls = Marginals.from_csv('sample_data/marginals_00106.csv')"
   ]
  },
  {
   "cell_type": "markdown",
   "metadata": {},
   "source": [
    "Now use `HouseholdAllocator` to generate household allocations."
   ]
  },
  {
   "cell_type": "code",
   "execution_count": 5,
   "metadata": {},
   "outputs": [
    {
     "ename": "AttributeError",
     "evalue": "'Series' object has no attribute 'as_matrix'",
     "output_type": "error",
     "traceback": [
      "\u001b[1;31m---------------------------------------------------------------------------\u001b[0m",
      "\u001b[1;31mAttributeError\u001b[0m                            Traceback (most recent call last)",
      "Input \u001b[1;32mIn [5]\u001b[0m, in \u001b[0;36m<cell line: 1>\u001b[1;34m()\u001b[0m\n\u001b[1;32m----> 1\u001b[0m allocator \u001b[38;5;241m=\u001b[39m \u001b[43mHouseholdAllocator\u001b[49m\u001b[38;5;241;43m.\u001b[39;49m\u001b[43mfrom_cleaned_data\u001b[49m\u001b[43m(\u001b[49m\u001b[43mcontrols\u001b[49m\u001b[43m,\u001b[49m\u001b[43m \u001b[49m\u001b[43mhouseholds_data\u001b[49m\u001b[43m,\u001b[49m\u001b[43m \u001b[49m\u001b[43mpersons_data\u001b[49m\u001b[43m)\u001b[49m\n",
      "File \u001b[1;32m~\\Documents\\Github\\CityEpidemiologyModeling\\doppelganger-master\\examples\\doppelganger\\allocation.py:79\u001b[0m, in \u001b[0;36mHouseholdAllocator.from_cleaned_data\u001b[1;34m(marginals, households_data, persons_data)\u001b[0m\n\u001b[0;32m     73\u001b[0m     \u001b[38;5;28;01massert\u001b[39;00m field\u001b[38;5;241m.\u001b[39mname \u001b[38;5;129;01min\u001b[39;00m persons_data\u001b[38;5;241m.\u001b[39mdata, \\\n\u001b[0;32m     74\u001b[0m         \u001b[38;5;124m'\u001b[39m\u001b[38;5;124mMissing required field \u001b[39m\u001b[38;5;132;01m{}\u001b[39;00m\u001b[38;5;124m'\u001b[39m\u001b[38;5;241m.\u001b[39mformat(field\u001b[38;5;241m.\u001b[39mname)\n\u001b[0;32m     76\u001b[0m households, persons \u001b[38;5;241m=\u001b[39m HouseholdAllocator\u001b[38;5;241m.\u001b[39m_format_data(\n\u001b[0;32m     77\u001b[0m     households_data\u001b[38;5;241m.\u001b[39mdata, persons_data\u001b[38;5;241m.\u001b[39mdata)\n\u001b[0;32m     78\u001b[0m allocated_households, allocated_persons \u001b[38;5;241m=\u001b[39m \\\n\u001b[1;32m---> 79\u001b[0m     \u001b[43mHouseholdAllocator\u001b[49m\u001b[38;5;241;43m.\u001b[39;49m\u001b[43m_allocate_households\u001b[49m\u001b[43m(\u001b[49m\u001b[43mhouseholds\u001b[49m\u001b[43m,\u001b[49m\u001b[43m \u001b[49m\u001b[43mpersons\u001b[49m\u001b[43m,\u001b[49m\u001b[43m \u001b[49m\u001b[43mmarginals\u001b[49m\u001b[43m)\u001b[49m\n\u001b[0;32m     80\u001b[0m \u001b[38;5;28;01mreturn\u001b[39;00m HouseholdAllocator(allocated_households, allocated_persons)\n",
      "File \u001b[1;32m~\\Documents\\Github\\CityEpidemiologyModeling\\doppelganger-master\\examples\\doppelganger\\allocation.py:142\u001b[0m, in \u001b[0;36mHouseholdAllocator._allocate_households\u001b[1;34m(households, persons, tract_controls)\u001b[0m\n\u001b[0;32m    139\u001b[0m households \u001b[38;5;241m=\u001b[39m households[households[inputs\u001b[38;5;241m.\u001b[39mHOUSEHOLD_WEIGHT\u001b[38;5;241m.\u001b[39mname] \u001b[38;5;241m>\u001b[39m \u001b[38;5;241m0\u001b[39m]\n\u001b[0;32m    141\u001b[0m \u001b[38;5;66;03m# Initial weights from PUMS\u001b[39;00m\n\u001b[1;32m--> 142\u001b[0m w \u001b[38;5;241m=\u001b[39m \u001b[43mhouseholds\u001b[49m\u001b[43m[\u001b[49m\u001b[43minputs\u001b[49m\u001b[38;5;241;43m.\u001b[39;49m\u001b[43mHOUSEHOLD_WEIGHT\u001b[49m\u001b[38;5;241;43m.\u001b[39;49m\u001b[43mname\u001b[49m\u001b[43m]\u001b[49m\u001b[38;5;241;43m.\u001b[39;49m\u001b[43mas_matrix\u001b[49m()\u001b[38;5;241m.\u001b[39mT\n\u001b[0;32m    144\u001b[0m allocation_inputs \u001b[38;5;241m=\u001b[39m [inputs\u001b[38;5;241m.\u001b[39mNUM_PEOPLE, inputs\u001b[38;5;241m.\u001b[39mNUM_VEHICLES]  \u001b[38;5;66;03m# Hard-coded for now\u001b[39;00m\n\u001b[0;32m    145\u001b[0m \u001b[38;5;66;03m# Prepend column name to bin name to prevent bin collision\u001b[39;00m\n",
      "File \u001b[1;32m~\\Anaconda3\\lib\\site-packages\\pandas\\core\\generic.py:5575\u001b[0m, in \u001b[0;36mNDFrame.__getattr__\u001b[1;34m(self, name)\u001b[0m\n\u001b[0;32m   5568\u001b[0m \u001b[38;5;28;01mif\u001b[39;00m (\n\u001b[0;32m   5569\u001b[0m     name \u001b[38;5;129;01mnot\u001b[39;00m \u001b[38;5;129;01min\u001b[39;00m \u001b[38;5;28mself\u001b[39m\u001b[38;5;241m.\u001b[39m_internal_names_set\n\u001b[0;32m   5570\u001b[0m     \u001b[38;5;129;01mand\u001b[39;00m name \u001b[38;5;129;01mnot\u001b[39;00m \u001b[38;5;129;01min\u001b[39;00m \u001b[38;5;28mself\u001b[39m\u001b[38;5;241m.\u001b[39m_metadata\n\u001b[0;32m   5571\u001b[0m     \u001b[38;5;129;01mand\u001b[39;00m name \u001b[38;5;129;01mnot\u001b[39;00m \u001b[38;5;129;01min\u001b[39;00m \u001b[38;5;28mself\u001b[39m\u001b[38;5;241m.\u001b[39m_accessors\n\u001b[0;32m   5572\u001b[0m     \u001b[38;5;129;01mand\u001b[39;00m \u001b[38;5;28mself\u001b[39m\u001b[38;5;241m.\u001b[39m_info_axis\u001b[38;5;241m.\u001b[39m_can_hold_identifiers_and_holds_name(name)\n\u001b[0;32m   5573\u001b[0m ):\n\u001b[0;32m   5574\u001b[0m     \u001b[38;5;28;01mreturn\u001b[39;00m \u001b[38;5;28mself\u001b[39m[name]\n\u001b[1;32m-> 5575\u001b[0m \u001b[38;5;28;01mreturn\u001b[39;00m \u001b[38;5;28;43mobject\u001b[39;49m\u001b[38;5;241;43m.\u001b[39;49m\u001b[38;5;21;43m__getattribute__\u001b[39;49m\u001b[43m(\u001b[49m\u001b[38;5;28;43mself\u001b[39;49m\u001b[43m,\u001b[49m\u001b[43m \u001b[49m\u001b[43mname\u001b[49m\u001b[43m)\u001b[49m\n",
      "\u001b[1;31mAttributeError\u001b[0m: 'Series' object has no attribute 'as_matrix'"
     ]
    }
   ],
   "source": [
    "allocator = HouseholdAllocator.from_cleaned_data(controls, households_data, persons_data)"
   ]
  },
  {
   "cell_type": "markdown",
   "metadata": {},
   "source": [
    "# Bayesian Network Generation\n",
    "Let's create models to generate characteristics for the people and households we just allocated. We'll start by loading up our pums data.  Our model learns different probability distributions for each category of person.  The category can be whatever you want and is specified by passing a segmentation function when you load training data.\n"
   ]
  },
  {
   "cell_type": "code",
   "execution_count": null,
   "metadata": {},
   "outputs": [],
   "source": [
    "segmentation_function = lambda x: x[inputs.AGE.name]\n",
    "person_training_data = SegmentedData.from_data(\n",
    "    persons_data,\n",
    "    list(configuration.person_fields),\n",
    "    inputs.PERSON_WEIGHT.name,\n",
    "    segmenter=segmentation_function\n",
    ")\n",
    "person_model = BayesianNetworkModel.train(\n",
    "    person_training_data,\n",
    "    configuration.person_structure,\n",
    "    configuration.person_fields\n",
    ")\n",
    "\n",
    "household_segmenter = lambda x: x[inputs.NUM_PEOPLE.name]\n",
    "\n",
    "household_training_data = SegmentedData.from_data(\n",
    "    households_data,\n",
    "    list(configuration.household_fields),\n",
    "    inputs.HOUSEHOLD_WEIGHT.name,\n",
    "    household_segmenter,\n",
    ")\n",
    "household_model = BayesianNetworkModel.train(\n",
    "    household_training_data,\n",
    "    configuration.household_structure,\n",
    "    configuration.household_fields\n",
    ")"
   ]
  },
  {
   "cell_type": "markdown",
   "metadata": {},
   "source": [
    "# Population Synthesis\n",
    "Now for the main event! We can synthesize a population by taking the household allocations\n",
    "we produced above and filling out missing categories with our Bayesian Networks.\n"
   ]
  },
  {
   "cell_type": "code",
   "execution_count": null,
   "metadata": {},
   "outputs": [],
   "source": [
    "population = Population.generate(allocator, person_model, household_model)"
   ]
  },
  {
   "cell_type": "markdown",
   "metadata": {},
   "source": [
    "We can access the people and households as Pandas DataFrames and work with them directly. Households and people are unique by household_id. We can also join them to create a fat table of individual and household attributes."
   ]
  },
  {
   "cell_type": "code",
   "execution_count": null,
   "metadata": {},
   "outputs": [],
   "source": [
    "people = population.generated_people\n",
    "households = population.generated_households\n",
    "\n",
    "merge_cols = [inputs.HOUSEHOLD_ID.name]\n",
    "combined = pd.merge(people, households, on=merge_cols)\n",
    "\n",
    "print(combined)"
   ]
  },
  {
   "cell_type": "markdown",
   "metadata": {},
   "source": [
    "We can easily save this population to a csv.\n"
   ]
  },
  {
   "cell_type": "code",
   "execution_count": null,
   "metadata": {},
   "outputs": [],
   "source": [
    "population.write('generated_people.csv', 'generated_households.csv')"
   ]
  },
  {
   "cell_type": "markdown",
   "metadata": {},
   "source": [
    "We can additionally save any of our intermediary stages and load them up again\n",
    "whenever we want.  For example, we could save our Bayesian Network and reuse them\n",
    "again later with the same or different household allocations.\n"
   ]
  },
  {
   "cell_type": "code",
   "execution_count": null,
   "metadata": {
    "collapsed": true
   },
   "outputs": [],
   "source": [
    "person_model.write('person_model.json')\n",
    "person_model_reloaded = BayesianNetworkModel.from_file('person_model.json', segmenter=segmentation_function)"
   ]
  },
  {
   "cell_type": "markdown",
   "metadata": {},
   "source": [
    "# Customize by PUMA\n",
    "To try this out on the PUMA of your choice and learn to make other customizations, take a look at [doppelganger_example_full](./doppelganger_example_full.ipynb)."
   ]
  }
 ],
 "metadata": {
  "kernelspec": {
   "display_name": "Python 3 (ipykernel)",
   "language": "python",
   "name": "python3"
  },
  "language_info": {
   "codemirror_mode": {
    "name": "ipython",
    "version": 3
   },
   "file_extension": ".py",
   "mimetype": "text/x-python",
   "name": "python",
   "nbconvert_exporter": "python",
   "pygments_lexer": "ipython3",
   "version": "3.9.12"
  }
 },
 "nbformat": 4,
 "nbformat_minor": 2
}
